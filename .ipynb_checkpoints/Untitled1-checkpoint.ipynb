{
 "cells": [
  {
   "cell_type": "code",
   "execution_count": 2,
   "metadata": {
    "collapsed": false
   },
   "outputs": [],
   "source": [
    "%matplotlib inline\n",
    "\n",
    "import numpy as np\n",
    "import networkx as nx\n",
    "import matplotlib.pyplot as plt"
   ]
  },
  {
   "cell_type": "code",
   "execution_count": 116,
   "metadata": {
    "collapsed": false
   },
   "outputs": [],
   "source": [
    "class FinancialNetwork:\n",
    "    def __init__(self, g, th, N, E):\n",
    "        self.g = g\n",
    "        self.th = th\n",
    "        self.N = N\n",
    "        self.E = E\n",
    "        self.a = np.zeros(N)\n",
    "        self.e = np.zeros(N)\n",
    "        self.invest = np.zeros(N)\n",
    "        self.l = np.zeros(N)\n",
    "        self.c = np.zeros(N)\n",
    "        self.d = np.zeros(N)\n",
    "        self.b = np.zeros(N)\n",
    "        self.A = E/(1-th)\n",
    "        self.I = th*self.A\n",
    "        \n",
    "    def set_assets(self):\n",
    "        for i in range(self.N):\n",
    "            self.e[i] = self.e_j_wave(i) + self.e_j_hat(i)\n",
    "            self.invest[i] = self.iinvest(i)\n",
    "            self.a[i] = self.e[i] + self.invest[i]\n",
    "            self.c[i] = self.g*self.a[i]\n",
    "            self.b[i] = self.get_bank(i)  \n",
    "            self.d[i] = self.a[i] - self.c[i] - self.b[i]  \n",
    "            self.l[i] = self.c[i] + self.d[i] + self.b[i]  \n",
    "    \n",
    "    def e_j_wave(self, i):\n",
    "        i_j = self.iinvest(i)\n",
    "        b_j = self.get_bank(i)\n",
    "        if b_j - i_j > 0:\n",
    "            e_j_wave = b_j - i_j\n",
    "        else:\n",
    "            e_j_wave = 0\n",
    "        return e_j_wave\n",
    "    \n",
    "    def e_j_hat(self, i):\n",
    "        e_j_sum = 0\n",
    "        for j in range(self.N):\n",
    "            e_j_sum += self.e_j_wave(j)\n",
    "        e_j_sum = float(e_j_sum)\n",
    "        k_sum = 0\n",
    "        for j in range(25):\n",
    "            k_sum += G.degree(j)\n",
    "        k_sum = float(k_sum)\n",
    "        k_j = float(G.degree(i))\n",
    "        e_j_hat = (self.E - e_j_sum)*k_j/k_sum\n",
    "        return e_j_hat\n",
    "    \n",
    "    def iinvest(self, i):\n",
    "        G = self.network\n",
    "        w = self.weight()\n",
    "        iinvest = w*G.out_degree(i)\n",
    "        return iinvest\n",
    "    \n",
    "    def get_bank(self, i):\n",
    "        G = self.network\n",
    "        w = self.weight()\n",
    "        get_bank = w*G.in_degree(i)\n",
    "        return get_bank\n",
    "    \n",
    "    def weight(self):\n",
    "        G = self.network\n",
    "        z = 0\n",
    "        for i in range(25):\n",
    "            z += G.degree(i)\n",
    "        z = float(z)\n",
    "        w = self.I/z\n",
    "        return w      \n",
    "    \n",
    "    def set_rn(self, p):\n",
    "        N = self.N\n",
    "        G = nx.DiGraph()\n",
    "        G.add_nodes_from([i for i in range(N)])\n",
    "        for i in range(N):\n",
    "            for j in range(N):\n",
    "                if i != j:\n",
    "                    y = np.random.choice([0, 1], p=[p, 1-p])\n",
    "                    if y == 0:\n",
    "                        G.add_edge(i,j,weight=1)\n",
    "        self.network = G\n",
    "        return self.network\n",
    "    \n",
    "    def set_sf(self, m_0, m_in, m_out):\n",
    "        N = self.N\n",
    "        G = nx.DiGraph()\n",
    "        G.add_nodes_from([i for i in range(m_0)])\n",
    "        for i in range(m_0):\n",
    "            for j in range(m_0):\n",
    "                if i != j:\n",
    "                    G.add_edge(i,j,weight=1)\n",
    "        k = 1\n",
    "        while m_0+k == N-1:\n",
    "            G.add_node(m_0 + k)\n",
    "            for i in range(m_0 + k -1):\n",
    "                k_in_sum = G.in_degree(i)\n",
    "                k_out_sum = G.out_degree(i)\n",
    "            \n",
    "            print m_0 + k\n",
    "            while G.in_degree(m_0 + k) != m_in:\n",
    "                for i in range(m_0 + k -1):\n",
    "                    p_in = G.in_degree(i)/k_in_sum\n",
    "                    y_in = np.random.choice([0, 1], p=[p_in, 1-p_in])\n",
    "                    if y_in == 0:\n",
    "                        G.add_edge(i, m_0 + k, weight=1)\n",
    "            \n",
    "            while G.out_degree(m_0 + k) != m_out:\n",
    "                    p_out = G.out_degree(i)/k_out_sum\n",
    "                    y_out = np.random.choice([0, 1], p=[p_out, 1-p_out])\n",
    "                    if y_in == 0:\n",
    "                        G.add_edge(m_0 + i, k, weight=1)\n",
    "            k += 1\n",
    "        self.network = G\n",
    "        return self.network\n",
    "    \n",
    "    def plot(self):\n",
    "        pos = nx.spring_layout(G)\n",
    "        nx.draw_circular(G)\n",
    "        plt.show()\n",
    "        "
   ]
  },
  {
   "cell_type": "code",
   "execution_count": 117,
   "metadata": {
    "collapsed": false
   },
   "outputs": [],
   "source": [
    "FN = FinancialNetwork(0.08, 0.3, 25, 100000)"
   ]
  },
  {
   "cell_type": "code",
   "execution_count": 118,
   "metadata": {
    "collapsed": false
   },
   "outputs": [
    {
     "data": {
      "text/plain": [
       "<networkx.classes.digraph.DiGraph at 0x1089cfe10>"
      ]
     },
     "execution_count": 118,
     "metadata": {},
     "output_type": "execute_result"
    }
   ],
   "source": [
    "FN.set_rn(0.3)"
   ]
  },
  {
   "cell_type": "code",
   "execution_count": 119,
   "metadata": {
    "collapsed": false
   },
   "outputs": [
    {
     "data": {
      "text/plain": [
       "<networkx.classes.digraph.DiGraph at 0x1089cf050>"
      ]
     },
     "execution_count": 119,
     "metadata": {},
     "output_type": "execute_result"
    }
   ],
   "source": [
    "FN.set_sf(5, 2, 3)"
   ]
  },
  {
   "cell_type": "code",
   "execution_count": null,
   "metadata": {
    "collapsed": true
   },
   "outputs": [],
   "source": []
  },
  {
   "cell_type": "code",
   "execution_count": 85,
   "metadata": {
    "collapsed": false
   },
   "outputs": [],
   "source": [
    "FN.set_assets()"
   ]
  },
  {
   "cell_type": "code",
   "execution_count": 87,
   "metadata": {
    "collapsed": false
   },
   "outputs": [
    {
     "data": {
      "text/plain": [
       "99999.999999999985"
      ]
     },
     "execution_count": 87,
     "metadata": {},
     "output_type": "execute_result"
    }
   ],
   "source": [
    "sum(FN.e)"
   ]
  },
  {
   "cell_type": "code",
   "execution_count": null,
   "metadata": {
    "collapsed": false
   },
   "outputs": [],
   "source": [
    "n.main()"
   ]
  },
  {
   "cell_type": "code",
   "execution_count": 53,
   "metadata": {
    "collapsed": false
   },
   "outputs": [],
   "source": [
    "G = nx.DiGraph()\n",
    "G.add_nodes_from([i for i in range(25)])\n",
    "for i in range(25):\n",
    "    for j in range(25):\n",
    "        if i != j:\n",
    "            y = np.random.choice([0, 1], p=[0.3, 0.7])\n",
    "            if y == 0:\n",
    "                G.add_edge(i,j,weight=1)"
   ]
  },
  {
   "cell_type": "code",
   "execution_count": 101,
   "metadata": {
    "collapsed": false
   },
   "outputs": [
    {
     "data": {
      "image/png": "[encoded data removed]",
      "text/plain": [
       "<matplotlib.figure.Figure at 0x109445bd0>"
      ]
     },
     "metadata": {},
     "output_type": "display_data"
    }
   ],
   "source": [
    "pos = nx.spring_layout(G)\n",
    "\n",
    "nx.draw_circular(G)\n",
    "\n",
    "plt.show()"
   ]
  },
  {
   "cell_type": "code",
   "execution_count": 45,
   "metadata": {
    "collapsed": true
   },
   "outputs": [],
   "source": [
    "y = np.random.choice([0, 1], 0.1)"
   ]
  },
  {
   "cell_type": "code",
   "execution_count": 46,
   "metadata": {
    "collapsed": false
   },
   "outputs": [
    {
     "data": {
      "text/plain": [
       "{1: {'weight': 1},\n",
       " 4: {'weight': 1},\n",
       " 5: {'weight': 1},\n",
       " 9: {'weight': 1},\n",
       " 12: {'weight': 1},\n",
       " 13: {'weight': 1},\n",
       " 14: {'weight': 1},\n",
       " 15: {'weight': 1},\n",
       " 21: {'weight': 1},\n",
       " 22: {'weight': 1},\n",
       " 24: {'weight': 1}}"
      ]
     },
     "execution_count": 46,
     "metadata": {},
     "output_type": "execute_result"
    }
   ],
   "source": [
    "G[3]"
   ]
  },
  {
   "cell_type": "code",
   "execution_count": 69,
   "metadata": {
    "collapsed": false
   },
   "outputs": [
    {
     "data": {
      "text/plain": [
       "334"
      ]
     },
     "execution_count": 69,
     "metadata": {},
     "output_type": "execute_result"
    }
   ],
   "source": [
    "k = 0\n",
    "for i in range(25):\n",
    "    k += G.degree(i)\n",
    "k"
   ]
  },
  {
   "cell_type": "code",
   "execution_count": 62,
   "metadata": {
    "collapsed": false
   },
   "outputs": [
    {
     "data": {
      "text/plain": [
       "[0,\n",
       " 1,\n",
       " 2,\n",
       " 3,\n",
       " 4,\n",
       " 5,\n",
       " 6,\n",
       " 7,\n",
       " 8,\n",
       " 9,\n",
       " 10,\n",
       " 11,\n",
       " 12,\n",
       " 13,\n",
       " 14,\n",
       " 15,\n",
       " 16,\n",
       " 17,\n",
       " 18,\n",
       " 19,\n",
       " 20,\n",
       " 21,\n",
       " 22,\n",
       " 23,\n",
       " 24]"
      ]
     },
     "execution_count": 62,
     "metadata": {},
     "output_type": "execute_result"
    }
   ],
   "source": [
    "G.nodes()"
   ]
  },
  {
   "cell_type": "code",
   "execution_count": 68,
   "metadata": {
    "collapsed": false
   },
   "outputs": [
    {
     "data": {
      "text/plain": [
       "167"
      ]
     },
     "execution_count": 68,
     "metadata": {},
     "output_type": "execute_result"
    }
   ],
   "source": [
    "G.number_of_edges()"
   ]
  },
  {
   "cell_type": "code",
   "execution_count": 95,
   "metadata": {
    "collapsed": true
   },
   "outputs": [],
   "source": [
    "G = nx.DiGraph()\n",
    "G.add_nodes_from([i for i in range(5)])"
   ]
  },
  {
   "cell_type": "code",
   "execution_count": 100,
   "metadata": {
    "collapsed": true
   },
   "outputs": [],
   "source": [
    "for i in range(100):\n",
    "    G.add_edge(1,2,weight=1)\n",
    "G.add_edge(1,2,weight=1)\n",
    "G.add_edge(2,3,weight=1)"
   ]
  },
  {
   "cell_type": "code",
   "execution_count": 102,
   "metadata": {
    "collapsed": false
   },
   "outputs": [
    {
     "data": {
      "text/plain": [
       "1"
      ]
     },
     "execution_count": 102,
     "metadata": {},
     "output_type": "execute_result"
    }
   ],
   "source": [
    "G.in_degree(2)"
   ]
  },
  {
   "cell_type": "code",
   "execution_count": null,
   "metadata": {
    "collapsed": true
   },
   "outputs": [],
   "source": []
  }
 ],
 "metadata": {
  "kernelspec": {
   "display_name": "Python 2",
   "language": "python",
   "name": "python2"
  },
  "language_info": {
   "codemirror_mode": {
    "name": "ipython",
    "version": 2
   },
   "file_extension": ".py",
   "mimetype": "text/x-python",
   "name": "python",
   "nbconvert_exporter": "python",
   "pygments_lexer": "ipython2",
   "version": "2.7.10"
  }
 },
 "nbformat": 4,
 "nbformat_minor": 0
}
