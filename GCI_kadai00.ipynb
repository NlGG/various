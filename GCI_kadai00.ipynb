{
 "cells": [
  {
   "cell_type": "markdown",
   "metadata": {},
   "source": [
    "## 課題1\n",
    "1900年から2200年までのうるう年を教えてくれるプログラムを書いてください。  \n",
    "ただし、うるう年は下記のルールで決定されるものとします。  \n",
    "```  \n",
    "西暦が4で割り切れる年は閏年である。  \n",
    "ただし、100で割り切れる年は閏年ではない。  \n",
    "ただし、400で割り切れる年は閏年である。  \n",
    "```"
   ]
  },
  {
   "cell_type": "markdown",
   "metadata": {},
   "source": [
    "## 課題2\n",
    "任意の西暦年を渡すと、うるう年か否かを判定してくれる関数を、def機能を使って実装してください。"
   ]
  },
  {
   "cell_type": "markdown",
   "metadata": {},
   "source": [
    "※課題2を先に解いて、そのプログラムを課題1に用いる"
   ]
  },
  {
   "cell_type": "code",
   "execution_count": 35,
   "metadata": {
    "collapsed": true
   },
   "outputs": [],
   "source": [
    "def leap_year(y):\n",
    "    if y < 0:\n",
    "        print(\"Please input positive number.\")\n",
    "        return\n",
    "    if  y%4 == 0:\n",
    "        if y%400 == 0:\n",
    "            print(\"%d is leap year.\"%y)\n",
    "            return \n",
    "        elif y%100 == 0:\n",
    "            print(\"%d is NOT leap year.\"%y)\n",
    "            return\n",
    "        print(\"%d is leap year.\"%y)\n",
    "        return\n",
    "    else:\n",
    "        print(\"%d is NOT leap year.\"%y)\n",
    "        return"
   ]
  },
  {
   "cell_type": "markdown",
   "metadata": {},
   "source": [
    "課題2への回答として1900年から2001年までのうるう年を探してみる。"
   ]
  },
  {
   "cell_type": "code",
   "execution_count": 31,
   "metadata": {
    "collapsed": false
   },
   "outputs": [
    {
     "name": "stdout",
     "output_type": "stream",
     "text": [
      "1900 is NOT leap year.\n",
      "1901 is NOT leap year.\n",
      "1902 is NOT leap year.\n",
      "1903 is NOT leap year.\n",
      "1904 is leap year.\n",
      "1905 is NOT leap year.\n",
      "1906 is NOT leap year.\n",
      "1907 is NOT leap year.\n",
      "1908 is leap year.\n",
      "1909 is NOT leap year.\n",
      "1910 is NOT leap year.\n",
      "1911 is NOT leap year.\n",
      "1912 is leap year.\n",
      "1913 is NOT leap year.\n",
      "1914 is NOT leap year.\n",
      "1915 is NOT leap year.\n",
      "1916 is leap year.\n",
      "1917 is NOT leap year.\n",
      "1918 is NOT leap year.\n",
      "1919 is NOT leap year.\n",
      "1920 is leap year.\n",
      "1921 is NOT leap year.\n",
      "1922 is NOT leap year.\n",
      "1923 is NOT leap year.\n",
      "1924 is leap year.\n",
      "1925 is NOT leap year.\n",
      "1926 is NOT leap year.\n",
      "1927 is NOT leap year.\n",
      "1928 is leap year.\n",
      "1929 is NOT leap year.\n",
      "1930 is NOT leap year.\n",
      "1931 is NOT leap year.\n",
      "1932 is leap year.\n",
      "1933 is NOT leap year.\n",
      "1934 is NOT leap year.\n",
      "1935 is NOT leap year.\n",
      "1936 is leap year.\n",
      "1937 is NOT leap year.\n",
      "1938 is NOT leap year.\n",
      "1939 is NOT leap year.\n",
      "1940 is leap year.\n",
      "1941 is NOT leap year.\n",
      "1942 is NOT leap year.\n",
      "1943 is NOT leap year.\n",
      "1944 is leap year.\n",
      "1945 is NOT leap year.\n",
      "1946 is NOT leap year.\n",
      "1947 is NOT leap year.\n",
      "1948 is leap year.\n",
      "1949 is NOT leap year.\n",
      "1950 is NOT leap year.\n",
      "1951 is NOT leap year.\n",
      "1952 is leap year.\n",
      "1953 is NOT leap year.\n",
      "1954 is NOT leap year.\n",
      "1955 is NOT leap year.\n",
      "1956 is leap year.\n",
      "1957 is NOT leap year.\n",
      "1958 is NOT leap year.\n",
      "1959 is NOT leap year.\n",
      "1960 is leap year.\n",
      "1961 is NOT leap year.\n",
      "1962 is NOT leap year.\n",
      "1963 is NOT leap year.\n",
      "1964 is leap year.\n",
      "1965 is NOT leap year.\n",
      "1966 is NOT leap year.\n",
      "1967 is NOT leap year.\n",
      "1968 is leap year.\n",
      "1969 is NOT leap year.\n",
      "1970 is NOT leap year.\n",
      "1971 is NOT leap year.\n",
      "1972 is leap year.\n",
      "1973 is NOT leap year.\n",
      "1974 is NOT leap year.\n",
      "1975 is NOT leap year.\n",
      "1976 is leap year.\n",
      "1977 is NOT leap year.\n",
      "1978 is NOT leap year.\n",
      "1979 is NOT leap year.\n",
      "1980 is leap year.\n",
      "1981 is NOT leap year.\n",
      "1982 is NOT leap year.\n",
      "1983 is NOT leap year.\n",
      "1984 is leap year.\n",
      "1985 is NOT leap year.\n",
      "1986 is NOT leap year.\n",
      "1987 is NOT leap year.\n",
      "1988 is leap year.\n",
      "1989 is NOT leap year.\n",
      "1990 is NOT leap year.\n",
      "1991 is NOT leap year.\n",
      "1992 is leap year.\n",
      "1993 is NOT leap year.\n",
      "1994 is NOT leap year.\n",
      "1995 is NOT leap year.\n",
      "1996 is leap year.\n",
      "1997 is NOT leap year.\n",
      "1998 is NOT leap year.\n",
      "1999 is NOT leap year.\n",
      "2000 is leap year.\n"
     ]
    }
   ],
   "source": [
    "for i in range(1900,2001):\n",
    "    leap_year(i)"
   ]
  },
  {
   "cell_type": "markdown",
   "metadata": {},
   "source": [
    "少し書き換えて課題1を解いてみる。"
   ]
  },
  {
   "cell_type": "code",
   "execution_count": 41,
   "metadata": {
    "collapsed": true
   },
   "outputs": [],
   "source": [
    "def leap_year2(y):\n",
    "    if y < 0:\n",
    "        return 0\n",
    "    if  y%4 == 0:\n",
    "        if y%400 == 0:\n",
    "            return 1\n",
    "        elif y%100 == 0:\n",
    "            return 0\n",
    "        return 1\n",
    "    else:\n",
    "        return 0"
   ]
  },
  {
   "cell_type": "code",
   "execution_count": 42,
   "metadata": {
    "collapsed": false
   },
   "outputs": [
    {
     "name": "stdout",
     "output_type": "stream",
     "text": [
      "73\n"
     ]
    }
   ],
   "source": [
    "leap_years = [leap_year2(i) for i in range(1900,2201)]\n",
    "print(sum(leap_years))"
   ]
  },
  {
   "cell_type": "markdown",
   "metadata": {},
   "source": [
    "## 課題3\n",
    "お笑いアンケートで観客の生まれた年も聞いてみた結果、以下のデータが集められました。\n",
    "```\n",
    "名前\t誕生年\n",
    "田中花子\t1980\n",
    "鈴木一郎\t2000\n",
    "山田太郎\t1989\n",
    "佐藤恵子\t1992\n",
    "石井あや\t1978\n",
    "```\n",
    "うるう年に生まれた観客の平均評価点と、うるう年以外に生まれた観客の平均評価点を求めるプログラムを書いてください。(小数点以下も出力してください。)\n"
   ]
  },
  {
   "cell_type": "markdown",
   "metadata": {},
   "source": [
    "例えば、次のような形で聴衆のデータが与えられたとする。"
   ]
  },
  {
   "cell_type": "code",
   "execution_count": 44,
   "metadata": {
    "collapsed": true
   },
   "outputs": [],
   "source": [
    "audience = {\"tanaka\":(1980, 1), \"suzuki\":(2000, 3), \"yamada\":(1989, 2), \"sato\":(1992, 5), \"ishii\":(1978, 5)}"
   ]
  },
  {
   "cell_type": "code",
   "execution_count": 53,
   "metadata": {
    "collapsed": true
   },
   "outputs": [],
   "source": [
    "def ave_by_ly(a):\n",
    "    x = a.values()\n",
    "    num_ly = 0\n",
    "    point_ly = 0\n",
    "    num_not_ly = 0\n",
    "    point_not_ly = 0\n",
    "    \n",
    "    for y, p in x:\n",
    "        if y < 0:\n",
    "            print(\"Please input positive number.\")\n",
    "            return\n",
    "        if  y%4 == 0:\n",
    "            if y%400 == 0:\n",
    "                num_ly += 1\n",
    "                point_ly += p \n",
    "            elif y%100 == 0:\n",
    "                num_not_ly += 1\n",
    "                point_not_ly += p \n",
    "            num_ly += 1\n",
    "            point_ly += p \n",
    "        else:\n",
    "            num_not_ly += 1\n",
    "            point_not_ly += p \n",
    "        print(y, p)\n",
    "    ave_ly = point_ly/num_ly\n",
    "    ave_not_ly = point_not_ly/num_not_ly\n",
    "    print(\"The average point of those who were born in leap year is {ave_ly}\".format(**locals()))\n",
    "    print(\"The average point of those who were NOT born in leap year is {ave_not_ly}\".format(**locals()))\n",
    "    return "
   ]
  },
  {
   "cell_type": "code",
   "execution_count": 54,
   "metadata": {
    "collapsed": false
   },
   "outputs": [
    {
     "name": "stdout",
     "output_type": "stream",
     "text": [
      "1989 2\n",
      "1992 5\n",
      "1978 5\n",
      "1980 1\n",
      "2000 3\n",
      "The average point of those who were born in leap year is 3.0\n",
      "The average point of those who were NOT born in leap year is 3.5\n"
     ]
    }
   ],
   "source": [
    "ave_by_ly(audience)"
   ]
  },
  {
   "cell_type": "code",
   "execution_count": null,
   "metadata": {
    "collapsed": true
   },
   "outputs": [],
   "source": []
  }
 ],
 "metadata": {
  "kernelspec": {
   "display_name": "Python 3",
   "language": "python",
   "name": "python3"
  },
  "language_info": {
   "codemirror_mode": {
    "name": "ipython",
    "version": 3
   },
   "file_extension": ".py",
   "mimetype": "text/x-python",
   "name": "python",
   "nbconvert_exporter": "python",
   "pygments_lexer": "ipython3",
   "version": "3.5.1"
  }
 },
 "nbformat": 4,
 "nbformat_minor": 0
}
