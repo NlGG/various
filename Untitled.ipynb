{
 "cells": [
  {
   "cell_type": "code",
   "execution_count": null,
   "metadata": {
    "collapsed": true
   },
   "outputs": [],
   "source": [
    "class IPM:\n",
    "    def __init__():\n",
    "        \n",
    "    def main(self, agents):\n",
    "        points = [[] for i in range(1000)] \n",
    "        for i in range(len(agents)):\n",
    "            for j in range(len(agents)):\n",
    "                if i != j:\n",
    "                    points[i] = self.battle(agents[i], agents[j])\n",
    "        return points\n",
    "    \n",
    "    def evolution(self, num_evol=1000):\n",
    "        agents = [self.agent() for i in range(1000)]\n",
    "        for evol in range(num_evol):\n",
    "            points = self.main(agents)\n",
    "            agents = self.evolution(agents, points)\n",
    "        points = self.main(agents)\n",
    "        agents = self.order(agents, points)\n",
    "        return agents[:10]"
   ]
  }
 ],
 "metadata": {
  "kernelspec": {
   "display_name": "Python 2",
   "language": "python",
   "name": "python2"
  },
  "language_info": {
   "codemirror_mode": {
    "name": "ipython",
    "version": 2
   },
   "file_extension": ".py",
   "mimetype": "text/x-python",
   "name": "python",
   "nbconvert_exporter": "python",
   "pygments_lexer": "ipython2",
   "version": "2.7.10"
  }
 },
 "nbformat": 4,
 "nbformat_minor": 0
}
